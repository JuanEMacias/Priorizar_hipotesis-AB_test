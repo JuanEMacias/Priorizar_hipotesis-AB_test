{
 "cells": [
  {
   "cell_type": "markdown",
   "metadata": {},
   "source": [
    "# Piorozación de hipótesis y Test A/B para tienda en línea"
   ]
  },
  {
   "cell_type": "markdown",
   "metadata": {},
   "source": [
    "## 1. Introducción \n",
    "En este proceso se realizará un análisis para una tienda en línea. Los datos de este proyecto provienen del departamento de marketing siendo una lista de hipótesis que pueden ayudar a aumentar los ingresos. \n",
    "\n",
    "Se hará el proceso para priorizar estas hipótesis, y poder lanzar un test A/B para analizar los resultados.\n",
    "\n",
    "Los datasets contienen los siguientes datos: \n",
    "\n",
    "El archivo hypotheses_us.csv contiene nueve hipótesis sobre cómo aumentar los ingresos de una tienda en línea con Reach, Impact, Confidence y Effort especificados para cada una, con la siguiente descripción de las columnas:\n",
    "\n",
    "- Hypotheses: breves descripciones de las hipótesis\n",
    "- Reach: alcance del usuario, en una escala del uno a diez\n",
    "- Impact: impacto en los usuarios, en una escala del uno al diez\n",
    "- Confidence: confianza en la hipótesis, en una escala del uno al diez\n",
    "- Effort: los recursos necesarios para probar una hipótesis, en una escala del uno al diez. Cuanto mayor sea el valor Effort, más recursos requiere la prueba.\n",
    "\n",
    "Para lograr realizar los test A/B se deberá utilizar datasets que contienen las ordenes realizadas y las visitas del sitio. \n",
    "Estos datasets contienen las siguientes columnas: \n",
    "\n",
    "orders_us.csv: \n",
    "\n",
    "- transactionId: identificador de pedido\n",
    "- visitorId: identificador del usuario que realizó el pedido\n",
    "- date: fecha del pedido\n",
    "- revenue: ingresos del pedido\n",
    "- group: el grupo del test A/B al que pertenece el usuario.\n",
    "\n",
    "visits_us.csv: \n",
    "\n",
    "- date: la fecha\n",
    "- group: grupo del test A/B\n",
    "- visits: el número de visitas en la fecha especificada para el grupo de test A/B especificado"
   ]
  },
  {
   "cell_type": "code",
   "execution_count": 1,
   "metadata": {},
   "outputs": [],
   "source": [
    "# Importar librerias\n",
    "import pandas as pd\n",
    "import numpy as np\n",
    "import matplotlib.pyplot as plt\n",
    "import scipy.stats as st\n",
    "import datetime as dt\n",
    "import seaborn as sns"
   ]
  },
  {
   "cell_type": "code",
   "execution_count": 2,
   "metadata": {},
   "outputs": [],
   "source": [
    "#Leer datasets\n",
    "hypotheses = pd.read_csv('/datasets/hypotheses_us.csv', sep=';')\n",
    "orders = pd.read_csv('/datasets/orders_us.csv', sep=',')\n",
    "visits = pd.read_csv('/datasets/visits_us.csv', sep=',')"
   ]
  },
  {
   "cell_type": "markdown",
   "metadata": {},
   "source": [
    "## 2. Exploración inicial y limpieza de datos"
   ]
  },
  {
   "cell_type": "code",
   "execution_count": 3,
   "metadata": {},
   "outputs": [
    {
     "name": "stdout",
     "output_type": "stream",
     "text": [
      "<class 'pandas.core.frame.DataFrame'>\n",
      "RangeIndex: 9 entries, 0 to 8\n",
      "Data columns (total 5 columns):\n",
      " #   Column      Non-Null Count  Dtype \n",
      "---  ------      --------------  ----- \n",
      " 0   Hypothesis  9 non-null      object\n",
      " 1   Reach       9 non-null      int64 \n",
      " 2   Impact      9 non-null      int64 \n",
      " 3   Confidence  9 non-null      int64 \n",
      " 4   Effort      9 non-null      int64 \n",
      "dtypes: int64(4), object(1)\n",
      "memory usage: 1.6 KB\n"
     ]
    }
   ],
   "source": [
    "#Información para optimizar datasets\n",
    "hypotheses.info(memory_usage='deep')\n"
   ]
  },
  {
   "cell_type": "code",
   "execution_count": 4,
   "metadata": {},
   "outputs": [
    {
     "name": "stdout",
     "output_type": "stream",
     "text": [
      "<class 'pandas.core.frame.DataFrame'>\n",
      "RangeIndex: 1197 entries, 0 to 1196\n",
      "Data columns (total 5 columns):\n",
      " #   Column         Non-Null Count  Dtype  \n",
      "---  ------         --------------  -----  \n",
      " 0   transactionId  1197 non-null   int64  \n",
      " 1   visitorId      1197 non-null   int64  \n",
      " 2   date           1197 non-null   object \n",
      " 3   revenue        1197 non-null   float64\n",
      " 4   group          1197 non-null   object \n",
      "dtypes: float64(1), int64(2), object(2)\n",
      "memory usage: 174.3 KB\n"
     ]
    }
   ],
   "source": [
    "orders.info(memory_usage='deep')"
   ]
  },
  {
   "cell_type": "code",
   "execution_count": 5,
   "metadata": {},
   "outputs": [
    {
     "name": "stdout",
     "output_type": "stream",
     "text": [
      "<class 'pandas.core.frame.DataFrame'>\n",
      "RangeIndex: 62 entries, 0 to 61\n",
      "Data columns (total 3 columns):\n",
      " #   Column  Non-Null Count  Dtype \n",
      "---  ------  --------------  ----- \n",
      " 0   date    62 non-null     object\n",
      " 1   group   62 non-null     object\n",
      " 2   visits  62 non-null     int64 \n",
      "dtypes: int64(1), object(2)\n",
      "memory usage: 8.2 KB\n"
     ]
    }
   ],
   "source": [
    "visits.info(memory_usage='deep')"
   ]
  },
  {
   "cell_type": "code",
   "execution_count": 6,
   "metadata": {},
   "outputs": [
    {
     "data": {
      "text/html": [
       "<div>\n",
       "<style scoped>\n",
       "    .dataframe tbody tr th:only-of-type {\n",
       "        vertical-align: middle;\n",
       "    }\n",
       "\n",
       "    .dataframe tbody tr th {\n",
       "        vertical-align: top;\n",
       "    }\n",
       "\n",
       "    .dataframe thead th {\n",
       "        text-align: right;\n",
       "    }\n",
       "</style>\n",
       "<table border=\"1\" class=\"dataframe\">\n",
       "  <thead>\n",
       "    <tr style=\"text-align: right;\">\n",
       "      <th></th>\n",
       "      <th>Hypothesis</th>\n",
       "      <th>Reach</th>\n",
       "      <th>Impact</th>\n",
       "      <th>Confidence</th>\n",
       "      <th>Effort</th>\n",
       "    </tr>\n",
       "  </thead>\n",
       "  <tbody>\n",
       "    <tr>\n",
       "      <th>0</th>\n",
       "      <td>Add two new channels for attracting traffic. T...</td>\n",
       "      <td>3</td>\n",
       "      <td>10</td>\n",
       "      <td>8</td>\n",
       "      <td>6</td>\n",
       "    </tr>\n",
       "    <tr>\n",
       "      <th>1</th>\n",
       "      <td>Launch your own delivery service. This will sh...</td>\n",
       "      <td>2</td>\n",
       "      <td>5</td>\n",
       "      <td>4</td>\n",
       "      <td>10</td>\n",
       "    </tr>\n",
       "    <tr>\n",
       "      <th>2</th>\n",
       "      <td>Add product recommendation blocks to the store...</td>\n",
       "      <td>8</td>\n",
       "      <td>3</td>\n",
       "      <td>7</td>\n",
       "      <td>3</td>\n",
       "    </tr>\n",
       "    <tr>\n",
       "      <th>3</th>\n",
       "      <td>Change the category structure. This will incre...</td>\n",
       "      <td>8</td>\n",
       "      <td>3</td>\n",
       "      <td>3</td>\n",
       "      <td>8</td>\n",
       "    </tr>\n",
       "    <tr>\n",
       "      <th>4</th>\n",
       "      <td>Change the background color on the main page. ...</td>\n",
       "      <td>3</td>\n",
       "      <td>1</td>\n",
       "      <td>1</td>\n",
       "      <td>1</td>\n",
       "    </tr>\n",
       "  </tbody>\n",
       "</table>\n",
       "</div>"
      ],
      "text/plain": [
       "                                          Hypothesis  Reach  Impact  \\\n",
       "0  Add two new channels for attracting traffic. T...      3      10   \n",
       "1  Launch your own delivery service. This will sh...      2       5   \n",
       "2  Add product recommendation blocks to the store...      8       3   \n",
       "3  Change the category structure. This will incre...      8       3   \n",
       "4  Change the background color on the main page. ...      3       1   \n",
       "\n",
       "   Confidence  Effort  \n",
       "0           8       6  \n",
       "1           4      10  \n",
       "2           7       3  \n",
       "3           3       8  \n",
       "4           1       1  "
      ]
     },
     "execution_count": 6,
     "metadata": {},
     "output_type": "execute_result"
    }
   ],
   "source": [
    "hypotheses.head()"
   ]
  },
  {
   "cell_type": "code",
   "execution_count": 7,
   "metadata": {},
   "outputs": [
    {
     "data": {
      "text/html": [
       "<div>\n",
       "<style scoped>\n",
       "    .dataframe tbody tr th:only-of-type {\n",
       "        vertical-align: middle;\n",
       "    }\n",
       "\n",
       "    .dataframe tbody tr th {\n",
       "        vertical-align: top;\n",
       "    }\n",
       "\n",
       "    .dataframe thead th {\n",
       "        text-align: right;\n",
       "    }\n",
       "</style>\n",
       "<table border=\"1\" class=\"dataframe\">\n",
       "  <thead>\n",
       "    <tr style=\"text-align: right;\">\n",
       "      <th></th>\n",
       "      <th>date</th>\n",
       "      <th>group</th>\n",
       "      <th>visits</th>\n",
       "    </tr>\n",
       "  </thead>\n",
       "  <tbody>\n",
       "    <tr>\n",
       "      <th>0</th>\n",
       "      <td>2019-08-01</td>\n",
       "      <td>A</td>\n",
       "      <td>719</td>\n",
       "    </tr>\n",
       "    <tr>\n",
       "      <th>1</th>\n",
       "      <td>2019-08-02</td>\n",
       "      <td>A</td>\n",
       "      <td>619</td>\n",
       "    </tr>\n",
       "    <tr>\n",
       "      <th>2</th>\n",
       "      <td>2019-08-03</td>\n",
       "      <td>A</td>\n",
       "      <td>507</td>\n",
       "    </tr>\n",
       "    <tr>\n",
       "      <th>3</th>\n",
       "      <td>2019-08-04</td>\n",
       "      <td>A</td>\n",
       "      <td>717</td>\n",
       "    </tr>\n",
       "    <tr>\n",
       "      <th>4</th>\n",
       "      <td>2019-08-05</td>\n",
       "      <td>A</td>\n",
       "      <td>756</td>\n",
       "    </tr>\n",
       "  </tbody>\n",
       "</table>\n",
       "</div>"
      ],
      "text/plain": [
       "         date group  visits\n",
       "0  2019-08-01     A     719\n",
       "1  2019-08-02     A     619\n",
       "2  2019-08-03     A     507\n",
       "3  2019-08-04     A     717\n",
       "4  2019-08-05     A     756"
      ]
     },
     "execution_count": 7,
     "metadata": {},
     "output_type": "execute_result"
    }
   ],
   "source": [
    "visits.head()"
   ]
  },
  {
   "cell_type": "code",
   "execution_count": 8,
   "metadata": {},
   "outputs": [
    {
     "data": {
      "text/html": [
       "<div>\n",
       "<style scoped>\n",
       "    .dataframe tbody tr th:only-of-type {\n",
       "        vertical-align: middle;\n",
       "    }\n",
       "\n",
       "    .dataframe tbody tr th {\n",
       "        vertical-align: top;\n",
       "    }\n",
       "\n",
       "    .dataframe thead th {\n",
       "        text-align: right;\n",
       "    }\n",
       "</style>\n",
       "<table border=\"1\" class=\"dataframe\">\n",
       "  <thead>\n",
       "    <tr style=\"text-align: right;\">\n",
       "      <th></th>\n",
       "      <th>transactionId</th>\n",
       "      <th>visitorId</th>\n",
       "      <th>date</th>\n",
       "      <th>revenue</th>\n",
       "      <th>group</th>\n",
       "    </tr>\n",
       "  </thead>\n",
       "  <tbody>\n",
       "    <tr>\n",
       "      <th>0</th>\n",
       "      <td>3667963787</td>\n",
       "      <td>3312258926</td>\n",
       "      <td>2019-08-15</td>\n",
       "      <td>30.4</td>\n",
       "      <td>B</td>\n",
       "    </tr>\n",
       "    <tr>\n",
       "      <th>1</th>\n",
       "      <td>2804400009</td>\n",
       "      <td>3642806036</td>\n",
       "      <td>2019-08-15</td>\n",
       "      <td>15.2</td>\n",
       "      <td>B</td>\n",
       "    </tr>\n",
       "    <tr>\n",
       "      <th>2</th>\n",
       "      <td>2961555356</td>\n",
       "      <td>4069496402</td>\n",
       "      <td>2019-08-15</td>\n",
       "      <td>10.2</td>\n",
       "      <td>A</td>\n",
       "    </tr>\n",
       "    <tr>\n",
       "      <th>3</th>\n",
       "      <td>3797467345</td>\n",
       "      <td>1196621759</td>\n",
       "      <td>2019-08-15</td>\n",
       "      <td>155.1</td>\n",
       "      <td>B</td>\n",
       "    </tr>\n",
       "    <tr>\n",
       "      <th>4</th>\n",
       "      <td>2282983706</td>\n",
       "      <td>2322279887</td>\n",
       "      <td>2019-08-15</td>\n",
       "      <td>40.5</td>\n",
       "      <td>B</td>\n",
       "    </tr>\n",
       "  </tbody>\n",
       "</table>\n",
       "</div>"
      ],
      "text/plain": [
       "   transactionId   visitorId        date  revenue group\n",
       "0     3667963787  3312258926  2019-08-15     30.4     B\n",
       "1     2804400009  3642806036  2019-08-15     15.2     B\n",
       "2     2961555356  4069496402  2019-08-15     10.2     A\n",
       "3     3797467345  1196621759  2019-08-15    155.1     B\n",
       "4     2282983706  2322279887  2019-08-15     40.5     B"
      ]
     },
     "execution_count": 8,
     "metadata": {},
     "output_type": "execute_result"
    }
   ],
   "source": [
    "orders.head()"
   ]
  },
  {
   "cell_type": "code",
   "execution_count": 9,
   "metadata": {},
   "outputs": [],
   "source": [
    "#Renombramos columnas para facilitar análisis \n",
    "hypotheses.columns = hypotheses.columns.str.lower()\n",
    "\n",
    "orders = orders.rename(columns={'transactionId' : 'transaction_id',\n",
    "                                'visitorId' : 'visitor_id',\n",
    "                                         })\n",
    "\n"
   ]
  },
  {
   "cell_type": "code",
   "execution_count": 10,
   "metadata": {},
   "outputs": [
    {
     "name": "stdout",
     "output_type": "stream",
     "text": [
      "<class 'pandas.core.frame.DataFrame'>\n",
      "RangeIndex: 9 entries, 0 to 8\n",
      "Data columns (total 5 columns):\n",
      " #   Column      Non-Null Count  Dtype \n",
      "---  ------      --------------  ----- \n",
      " 0   hypothesis  9 non-null      object\n",
      " 1   reach       9 non-null      int64 \n",
      " 2   impact      9 non-null      int64 \n",
      " 3   confidence  9 non-null      int64 \n",
      " 4   effort      9 non-null      int64 \n",
      "dtypes: int64(4), object(1)\n",
      "memory usage: 1.6 KB\n"
     ]
    }
   ],
   "source": [
    "#Revisamos cambios\n",
    "hypotheses.info(memory_usage='deep')"
   ]
  },
  {
   "cell_type": "code",
   "execution_count": 11,
   "metadata": {},
   "outputs": [
    {
     "name": "stdout",
     "output_type": "stream",
     "text": [
      "<class 'pandas.core.frame.DataFrame'>\n",
      "RangeIndex: 62 entries, 0 to 61\n",
      "Data columns (total 3 columns):\n",
      " #   Column  Non-Null Count  Dtype \n",
      "---  ------  --------------  ----- \n",
      " 0   date    62 non-null     object\n",
      " 1   group   62 non-null     object\n",
      " 2   visits  62 non-null     int64 \n",
      "dtypes: int64(1), object(2)\n",
      "memory usage: 8.2 KB\n"
     ]
    }
   ],
   "source": [
    "visits.info(memory_usage='deep')"
   ]
  },
  {
   "cell_type": "code",
   "execution_count": 12,
   "metadata": {},
   "outputs": [
    {
     "name": "stdout",
     "output_type": "stream",
     "text": [
      "<class 'pandas.core.frame.DataFrame'>\n",
      "RangeIndex: 1197 entries, 0 to 1196\n",
      "Data columns (total 5 columns):\n",
      " #   Column          Non-Null Count  Dtype  \n",
      "---  ------          --------------  -----  \n",
      " 0   transaction_id  1197 non-null   int64  \n",
      " 1   visitor_id      1197 non-null   int64  \n",
      " 2   date            1197 non-null   object \n",
      " 3   revenue         1197 non-null   float64\n",
      " 4   group           1197 non-null   object \n",
      "dtypes: float64(1), int64(2), object(2)\n",
      "memory usage: 174.3 KB\n"
     ]
    }
   ],
   "source": [
    "orders.info(memory_usage='deep')"
   ]
  },
  {
   "cell_type": "code",
   "execution_count": 13,
   "metadata": {},
   "outputs": [
    {
     "name": "stdout",
     "output_type": "stream",
     "text": [
      "date      0\n",
      "group     0\n",
      "visits    0\n",
      "dtype: int64\n",
      "---------------------\n",
      "transaction_id    0\n",
      "visitor_id        0\n",
      "date              0\n",
      "revenue           0\n",
      "group             0\n",
      "dtype: int64\n"
     ]
    }
   ],
   "source": [
    "#Aparantemente no hay valores nulos, se comprueba \n",
    "print(visits.isna().sum())\n",
    "print('---------------------')\n",
    "print(orders.isna().sum())"
   ]
  },
  {
   "cell_type": "code",
   "execution_count": 14,
   "metadata": {},
   "outputs": [
    {
     "name": "stdout",
     "output_type": "stream",
     "text": [
      "0\n",
      "---------------------\n",
      "0\n"
     ]
    }
   ],
   "source": [
    "print(visits.duplicated().sum())\n",
    "print('---------------------')\n",
    "print(orders.duplicated().sum())"
   ]
  },
  {
   "cell_type": "code",
   "execution_count": 15,
   "metadata": {},
   "outputs": [
    {
     "data": {
      "text/html": [
       "<div>\n",
       "<style scoped>\n",
       "    .dataframe tbody tr th:only-of-type {\n",
       "        vertical-align: middle;\n",
       "    }\n",
       "\n",
       "    .dataframe tbody tr th {\n",
       "        vertical-align: top;\n",
       "    }\n",
       "\n",
       "    .dataframe thead th {\n",
       "        text-align: right;\n",
       "    }\n",
       "</style>\n",
       "<table border=\"1\" class=\"dataframe\">\n",
       "  <thead>\n",
       "    <tr style=\"text-align: right;\">\n",
       "      <th></th>\n",
       "      <th>visitor_id</th>\n",
       "      <th>groups</th>\n",
       "    </tr>\n",
       "  </thead>\n",
       "  <tbody>\n",
       "    <tr>\n",
       "      <th>0</th>\n",
       "      <td>5114589</td>\n",
       "      <td>1</td>\n",
       "    </tr>\n",
       "    <tr>\n",
       "      <th>1</th>\n",
       "      <td>6958315</td>\n",
       "      <td>1</td>\n",
       "    </tr>\n",
       "    <tr>\n",
       "      <th>2</th>\n",
       "      <td>8300375</td>\n",
       "      <td>2</td>\n",
       "    </tr>\n",
       "    <tr>\n",
       "      <th>3</th>\n",
       "      <td>11685486</td>\n",
       "      <td>1</td>\n",
       "    </tr>\n",
       "    <tr>\n",
       "      <th>4</th>\n",
       "      <td>39475350</td>\n",
       "      <td>1</td>\n",
       "    </tr>\n",
       "  </tbody>\n",
       "</table>\n",
       "</div>"
      ],
      "text/plain": [
       "   visitor_id  groups\n",
       "0     5114589       1\n",
       "1     6958315       1\n",
       "2     8300375       2\n",
       "3    11685486       1\n",
       "4    39475350       1"
      ]
     },
     "execution_count": 15,
     "metadata": {},
     "output_type": "execute_result"
    }
   ],
   "source": [
    "#Revisamos que no haya usuarios en dos grupos \n",
    "#creamos otrs df para conocer en cuantos grupos se halla cada usuario\n",
    "df = orders.groupby('visitor_id')['group'].nunique().reset_index()\n",
    "df.columns = ['visitor_id', 'groups']\n",
    "df.head()"
   ]
  },
  {
   "cell_type": "code",
   "execution_count": 16,
   "metadata": {},
   "outputs": [
    {
     "name": "stdout",
     "output_type": "stream",
     "text": [
      "visitor_id    58\n",
      "groups        58\n",
      "dtype: int64\n"
     ]
    }
   ],
   "source": [
    "#Filtramos para ver cuantos usuarios con dos grupos hay \n",
    "print(df.query('groups == 2').count())"
   ]
  },
  {
   "cell_type": "code",
   "execution_count": 17,
   "metadata": {},
   "outputs": [
    {
     "data": {
      "text/html": [
       "<div>\n",
       "<style scoped>\n",
       "    .dataframe tbody tr th:only-of-type {\n",
       "        vertical-align: middle;\n",
       "    }\n",
       "\n",
       "    .dataframe tbody tr th {\n",
       "        vertical-align: top;\n",
       "    }\n",
       "\n",
       "    .dataframe thead th {\n",
       "        text-align: right;\n",
       "    }\n",
       "</style>\n",
       "<table border=\"1\" class=\"dataframe\">\n",
       "  <thead>\n",
       "    <tr style=\"text-align: right;\">\n",
       "      <th></th>\n",
       "      <th>transaction_id</th>\n",
       "      <th>visitor_id</th>\n",
       "      <th>date</th>\n",
       "      <th>revenue</th>\n",
       "      <th>group</th>\n",
       "      <th>groups</th>\n",
       "    </tr>\n",
       "  </thead>\n",
       "  <tbody>\n",
       "    <tr>\n",
       "      <th>0</th>\n",
       "      <td>3667963787</td>\n",
       "      <td>3312258926</td>\n",
       "      <td>2019-08-15</td>\n",
       "      <td>30.4</td>\n",
       "      <td>B</td>\n",
       "      <td>1</td>\n",
       "    </tr>\n",
       "    <tr>\n",
       "      <th>1</th>\n",
       "      <td>2804400009</td>\n",
       "      <td>3642806036</td>\n",
       "      <td>2019-08-15</td>\n",
       "      <td>15.2</td>\n",
       "      <td>B</td>\n",
       "      <td>1</td>\n",
       "    </tr>\n",
       "    <tr>\n",
       "      <th>2</th>\n",
       "      <td>2961555356</td>\n",
       "      <td>4069496402</td>\n",
       "      <td>2019-08-15</td>\n",
       "      <td>10.2</td>\n",
       "      <td>A</td>\n",
       "      <td>2</td>\n",
       "    </tr>\n",
       "    <tr>\n",
       "      <th>3</th>\n",
       "      <td>1473132782</td>\n",
       "      <td>4069496402</td>\n",
       "      <td>2019-08-12</td>\n",
       "      <td>10.8</td>\n",
       "      <td>B</td>\n",
       "      <td>2</td>\n",
       "    </tr>\n",
       "    <tr>\n",
       "      <th>4</th>\n",
       "      <td>3797467345</td>\n",
       "      <td>1196621759</td>\n",
       "      <td>2019-08-15</td>\n",
       "      <td>155.1</td>\n",
       "      <td>B</td>\n",
       "      <td>1</td>\n",
       "    </tr>\n",
       "  </tbody>\n",
       "</table>\n",
       "</div>"
      ],
      "text/plain": [
       "   transaction_id  visitor_id        date  revenue group  groups\n",
       "0      3667963787  3312258926  2019-08-15     30.4     B       1\n",
       "1      2804400009  3642806036  2019-08-15     15.2     B       1\n",
       "2      2961555356  4069496402  2019-08-15     10.2     A       2\n",
       "3      1473132782  4069496402  2019-08-12     10.8     B       2\n",
       "4      3797467345  1196621759  2019-08-15    155.1     B       1"
      ]
     },
     "execution_count": 17,
     "metadata": {},
     "output_type": "execute_result"
    }
   ],
   "source": [
    "#unimos con df principal de orders \n",
    "orders = orders.merge(df, on='visitor_id')\n",
    "orders.head()"
   ]
  },
  {
   "cell_type": "code",
   "execution_count": 18,
   "metadata": {},
   "outputs": [],
   "source": [
    "#Eliminamos columnas con usuarios en dos grupos \n",
    "orders = orders[orders['groups'] != 2].reset_index(drop=True)"
   ]
  },
  {
   "cell_type": "code",
   "execution_count": 19,
   "metadata": {},
   "outputs": [
    {
     "data": {
      "text/plain": [
       "array([1], dtype=int64)"
      ]
     },
     "execution_count": 19,
     "metadata": {},
     "output_type": "execute_result"
    }
   ],
   "source": [
    "#Verficamos cambios \n",
    "orders['groups'].unique()"
   ]
  },
  {
   "cell_type": "code",
   "execution_count": 20,
   "metadata": {},
   "outputs": [],
   "source": [
    "#Elimanamso columna con numero de grupos \n",
    "orders = orders.drop ('groups', axis = 1)"
   ]
  },
  {
   "cell_type": "code",
   "execution_count": 21,
   "metadata": {},
   "outputs": [
    {
     "data": {
      "text/html": [
       "<div>\n",
       "<style scoped>\n",
       "    .dataframe tbody tr th:only-of-type {\n",
       "        vertical-align: middle;\n",
       "    }\n",
       "\n",
       "    .dataframe tbody tr th {\n",
       "        vertical-align: top;\n",
       "    }\n",
       "\n",
       "    .dataframe thead th {\n",
       "        text-align: right;\n",
       "    }\n",
       "</style>\n",
       "<table border=\"1\" class=\"dataframe\">\n",
       "  <thead>\n",
       "    <tr style=\"text-align: right;\">\n",
       "      <th></th>\n",
       "      <th>transaction_id</th>\n",
       "      <th>visitor_id</th>\n",
       "      <th>date</th>\n",
       "      <th>revenue</th>\n",
       "      <th>group</th>\n",
       "    </tr>\n",
       "  </thead>\n",
       "  <tbody>\n",
       "    <tr>\n",
       "      <th>310</th>\n",
       "      <td>1407575382</td>\n",
       "      <td>1097629811</td>\n",
       "      <td>2019-08-24</td>\n",
       "      <td>45.4</td>\n",
       "      <td>B</td>\n",
       "    </tr>\n",
       "    <tr>\n",
       "      <th>50</th>\n",
       "      <td>2145193898</td>\n",
       "      <td>1221478247</td>\n",
       "      <td>2019-08-16</td>\n",
       "      <td>25.2</td>\n",
       "      <td>B</td>\n",
       "    </tr>\n",
       "    <tr>\n",
       "      <th>627</th>\n",
       "      <td>390467479</td>\n",
       "      <td>2546716293</td>\n",
       "      <td>2019-08-05</td>\n",
       "      <td>30.8</td>\n",
       "      <td>A</td>\n",
       "    </tr>\n",
       "    <tr>\n",
       "      <th>972</th>\n",
       "      <td>453686528</td>\n",
       "      <td>2134820861</td>\n",
       "      <td>2019-08-13</td>\n",
       "      <td>295.7</td>\n",
       "      <td>A</td>\n",
       "    </tr>\n",
       "    <tr>\n",
       "      <th>703</th>\n",
       "      <td>1605437540</td>\n",
       "      <td>3012531415</td>\n",
       "      <td>2019-08-21</td>\n",
       "      <td>100.0</td>\n",
       "      <td>A</td>\n",
       "    </tr>\n",
       "    <tr>\n",
       "      <th>322</th>\n",
       "      <td>1552043751</td>\n",
       "      <td>109615108</td>\n",
       "      <td>2019-08-06</td>\n",
       "      <td>35.7</td>\n",
       "      <td>A</td>\n",
       "    </tr>\n",
       "    <tr>\n",
       "      <th>930</th>\n",
       "      <td>4279408906</td>\n",
       "      <td>1002877908</td>\n",
       "      <td>2019-08-12</td>\n",
       "      <td>15.8</td>\n",
       "      <td>A</td>\n",
       "    </tr>\n",
       "    <tr>\n",
       "      <th>472</th>\n",
       "      <td>384670583</td>\n",
       "      <td>1247895435</td>\n",
       "      <td>2019-08-04</td>\n",
       "      <td>10.0</td>\n",
       "      <td>A</td>\n",
       "    </tr>\n",
       "    <tr>\n",
       "      <th>53</th>\n",
       "      <td>4049927765</td>\n",
       "      <td>343208965</td>\n",
       "      <td>2019-08-16</td>\n",
       "      <td>25.8</td>\n",
       "      <td>A</td>\n",
       "    </tr>\n",
       "    <tr>\n",
       "      <th>385</th>\n",
       "      <td>2291372207</td>\n",
       "      <td>2968526225</td>\n",
       "      <td>2019-08-28</td>\n",
       "      <td>35.8</td>\n",
       "      <td>B</td>\n",
       "    </tr>\n",
       "    <tr>\n",
       "      <th>823</th>\n",
       "      <td>4057562044</td>\n",
       "      <td>4134830387</td>\n",
       "      <td>2019-08-11</td>\n",
       "      <td>30.5</td>\n",
       "      <td>B</td>\n",
       "    </tr>\n",
       "    <tr>\n",
       "      <th>803</th>\n",
       "      <td>3760662696</td>\n",
       "      <td>3577713868</td>\n",
       "      <td>2019-08-27</td>\n",
       "      <td>5.9</td>\n",
       "      <td>B</td>\n",
       "    </tr>\n",
       "    <tr>\n",
       "      <th>655</th>\n",
       "      <td>860384268</td>\n",
       "      <td>2316833558</td>\n",
       "      <td>2019-08-30</td>\n",
       "      <td>40.7</td>\n",
       "      <td>B</td>\n",
       "    </tr>\n",
       "    <tr>\n",
       "      <th>311</th>\n",
       "      <td>3959809807</td>\n",
       "      <td>1421513677</td>\n",
       "      <td>2019-08-24</td>\n",
       "      <td>95.3</td>\n",
       "      <td>B</td>\n",
       "    </tr>\n",
       "    <tr>\n",
       "      <th>1000</th>\n",
       "      <td>2927992070</td>\n",
       "      <td>1658204305</td>\n",
       "      <td>2019-08-14</td>\n",
       "      <td>20.8</td>\n",
       "      <td>A</td>\n",
       "    </tr>\n",
       "    <tr>\n",
       "      <th>459</th>\n",
       "      <td>2773724620</td>\n",
       "      <td>1802957007</td>\n",
       "      <td>2019-08-26</td>\n",
       "      <td>15.4</td>\n",
       "      <td>B</td>\n",
       "    </tr>\n",
       "    <tr>\n",
       "      <th>721</th>\n",
       "      <td>2909182252</td>\n",
       "      <td>3720590235</td>\n",
       "      <td>2019-08-08</td>\n",
       "      <td>55.5</td>\n",
       "      <td>A</td>\n",
       "    </tr>\n",
       "    <tr>\n",
       "      <th>457</th>\n",
       "      <td>1765769688</td>\n",
       "      <td>1744796792</td>\n",
       "      <td>2019-08-26</td>\n",
       "      <td>50.3</td>\n",
       "      <td>A</td>\n",
       "    </tr>\n",
       "    <tr>\n",
       "      <th>281</th>\n",
       "      <td>486115048</td>\n",
       "      <td>2358787737</td>\n",
       "      <td>2019-08-19</td>\n",
       "      <td>40.9</td>\n",
       "      <td>A</td>\n",
       "    </tr>\n",
       "    <tr>\n",
       "      <th>546</th>\n",
       "      <td>2148936881</td>\n",
       "      <td>654930236</td>\n",
       "      <td>2019-08-29</td>\n",
       "      <td>300.6</td>\n",
       "      <td>B</td>\n",
       "    </tr>\n",
       "  </tbody>\n",
       "</table>\n",
       "</div>"
      ],
      "text/plain": [
       "      transaction_id  visitor_id        date  revenue group\n",
       "310       1407575382  1097629811  2019-08-24     45.4     B\n",
       "50        2145193898  1221478247  2019-08-16     25.2     B\n",
       "627        390467479  2546716293  2019-08-05     30.8     A\n",
       "972        453686528  2134820861  2019-08-13    295.7     A\n",
       "703       1605437540  3012531415  2019-08-21    100.0     A\n",
       "322       1552043751   109615108  2019-08-06     35.7     A\n",
       "930       4279408906  1002877908  2019-08-12     15.8     A\n",
       "472        384670583  1247895435  2019-08-04     10.0     A\n",
       "53        4049927765   343208965  2019-08-16     25.8     A\n",
       "385       2291372207  2968526225  2019-08-28     35.8     B\n",
       "823       4057562044  4134830387  2019-08-11     30.5     B\n",
       "803       3760662696  3577713868  2019-08-27      5.9     B\n",
       "655        860384268  2316833558  2019-08-30     40.7     B\n",
       "311       3959809807  1421513677  2019-08-24     95.3     B\n",
       "1000      2927992070  1658204305  2019-08-14     20.8     A\n",
       "459       2773724620  1802957007  2019-08-26     15.4     B\n",
       "721       2909182252  3720590235  2019-08-08     55.5     A\n",
       "457       1765769688  1744796792  2019-08-26     50.3     A\n",
       "281        486115048  2358787737  2019-08-19     40.9     A\n",
       "546       2148936881   654930236  2019-08-29    300.6     B"
      ]
     },
     "execution_count": 21,
     "metadata": {},
     "output_type": "execute_result"
    }
   ],
   "source": [
    "orders.sample(20)"
   ]
  },
  {
   "cell_type": "markdown",
   "metadata": {},
   "source": [
    "### Hallazgos sobre exploración inicial y limpieza de datos \n",
    "\n",
    "Se cambiaron lso tipos de columnas a aquellas que serían más adecuadas para el análsis, no se hallaron valores nulos o duplciados, sin embargo se busca elimianr usuiaruios que se hallen eme grupos A y B al mismo tiempo"
   ]
  },
  {
   "cell_type": "markdown",
   "metadata": {},
   "source": [
    "## 3. Priorización de hipótesis"
   ]
  },
  {
   "cell_type": "markdown",
   "metadata": {},
   "source": [
    "Calculamos framework ICE & RICE para priorizar hipótesis. "
   ]
  },
  {
   "cell_type": "code",
   "execution_count": 22,
   "metadata": {},
   "outputs": [
    {
     "data": {
      "text/html": [
       "<div>\n",
       "<style scoped>\n",
       "    .dataframe tbody tr th:only-of-type {\n",
       "        vertical-align: middle;\n",
       "    }\n",
       "\n",
       "    .dataframe tbody tr th {\n",
       "        vertical-align: top;\n",
       "    }\n",
       "\n",
       "    .dataframe thead th {\n",
       "        text-align: right;\n",
       "    }\n",
       "</style>\n",
       "<table border=\"1\" class=\"dataframe\">\n",
       "  <thead>\n",
       "    <tr style=\"text-align: right;\">\n",
       "      <th></th>\n",
       "      <th>hypothesis</th>\n",
       "      <th>reach</th>\n",
       "      <th>impact</th>\n",
       "      <th>confidence</th>\n",
       "      <th>effort</th>\n",
       "    </tr>\n",
       "  </thead>\n",
       "  <tbody>\n",
       "    <tr>\n",
       "      <th>0</th>\n",
       "      <td>Add two new channels for attracting traffic. T...</td>\n",
       "      <td>3</td>\n",
       "      <td>10</td>\n",
       "      <td>8</td>\n",
       "      <td>6</td>\n",
       "    </tr>\n",
       "    <tr>\n",
       "      <th>1</th>\n",
       "      <td>Launch your own delivery service. This will sh...</td>\n",
       "      <td>2</td>\n",
       "      <td>5</td>\n",
       "      <td>4</td>\n",
       "      <td>10</td>\n",
       "    </tr>\n",
       "    <tr>\n",
       "      <th>2</th>\n",
       "      <td>Add product recommendation blocks to the store...</td>\n",
       "      <td>8</td>\n",
       "      <td>3</td>\n",
       "      <td>7</td>\n",
       "      <td>3</td>\n",
       "    </tr>\n",
       "    <tr>\n",
       "      <th>3</th>\n",
       "      <td>Change the category structure. This will incre...</td>\n",
       "      <td>8</td>\n",
       "      <td>3</td>\n",
       "      <td>3</td>\n",
       "      <td>8</td>\n",
       "    </tr>\n",
       "    <tr>\n",
       "      <th>4</th>\n",
       "      <td>Change the background color on the main page. ...</td>\n",
       "      <td>3</td>\n",
       "      <td>1</td>\n",
       "      <td>1</td>\n",
       "      <td>1</td>\n",
       "    </tr>\n",
       "  </tbody>\n",
       "</table>\n",
       "</div>"
      ],
      "text/plain": [
       "                                          hypothesis  reach  impact  \\\n",
       "0  Add two new channels for attracting traffic. T...      3      10   \n",
       "1  Launch your own delivery service. This will sh...      2       5   \n",
       "2  Add product recommendation blocks to the store...      8       3   \n",
       "3  Change the category structure. This will incre...      8       3   \n",
       "4  Change the background color on the main page. ...      3       1   \n",
       "\n",
       "   confidence  effort  \n",
       "0           8       6  \n",
       "1           4      10  \n",
       "2           7       3  \n",
       "3           3       8  \n",
       "4           1       1  "
      ]
     },
     "execution_count": 22,
     "metadata": {},
     "output_type": "execute_result"
    }
   ],
   "source": [
    "hypotheses.head()"
   ]
  },
  {
   "cell_type": "code",
   "execution_count": 23,
   "metadata": {},
   "outputs": [],
   "source": [
    "#Calculamos ICE \n",
    "hypotheses['ICE'] = (hypotheses['impact'] * hypotheses['confidence']) / hypotheses['effort']\n"
   ]
  },
  {
   "cell_type": "code",
   "execution_count": 24,
   "metadata": {},
   "outputs": [
    {
     "name": "stdout",
     "output_type": "stream",
     "text": [
      "                                          hypothesis        ICE\n",
      "8  Launch a promotion that gives users discounts ...  16.200000\n",
      "0  Add two new channels for attracting traffic. T...  13.333333\n",
      "7  Add a subscription form to all the main pages....  11.200000\n",
      "6  Show banners with current offers and sales on ...   8.000000\n",
      "2  Add product recommendation blocks to the store...   7.000000\n",
      "1  Launch your own delivery service. This will sh...   2.000000\n",
      "5  Add a customer review page. This will increase...   1.333333\n",
      "3  Change the category structure. This will incre...   1.125000\n",
      "4  Change the background color on the main page. ...   1.000000\n"
     ]
    }
   ],
   "source": [
    "#Mostramos resultado en orden descendente de prioridad.\n",
    "print(hypotheses[['hypothesis', 'ICE']].sort_values(by='ICE', ascending=False))"
   ]
  },
  {
   "cell_type": "code",
   "execution_count": 25,
   "metadata": {},
   "outputs": [],
   "source": [
    "#Calculamos RICE \n",
    "hypotheses['RICE'] = (hypotheses['reach'] * hypotheses['impact'] * hypotheses['confidence']) / hypotheses['effort']"
   ]
  },
  {
   "cell_type": "code",
   "execution_count": 26,
   "metadata": {},
   "outputs": [
    {
     "name": "stdout",
     "output_type": "stream",
     "text": [
      "                                          hypothesis   RICE\n",
      "7  Add a subscription form to all the main pages....  112.0\n",
      "2  Add product recommendation blocks to the store...   56.0\n",
      "0  Add two new channels for attracting traffic. T...   40.0\n",
      "6  Show banners with current offers and sales on ...   40.0\n",
      "8  Launch a promotion that gives users discounts ...   16.2\n",
      "3  Change the category structure. This will incre...    9.0\n",
      "1  Launch your own delivery service. This will sh...    4.0\n",
      "5  Add a customer review page. This will increase...    4.0\n",
      "4  Change the background color on the main page. ...    3.0\n"
     ]
    }
   ],
   "source": [
    "#Mostramos resultado en orden descendente de prioridad.\n",
    "print(hypotheses[['hypothesis', 'RICE']].sort_values(by='RICE', ascending=False))"
   ]
  },
  {
   "cell_type": "code",
   "execution_count": 27,
   "metadata": {},
   "outputs": [
    {
     "name": "stdout",
     "output_type": "stream",
     "text": [
      "                                          hypothesis        ICE\n",
      "8  Launch a promotion that gives users discounts ...  16.200000\n",
      "0  Add two new channels for attracting traffic. T...  13.333333\n",
      "7  Add a subscription form to all the main pages....  11.200000\n",
      "6  Show banners with current offers and sales on ...   8.000000\n",
      "2  Add product recommendation blocks to the store...   7.000000\n",
      "1  Launch your own delivery service. This will sh...   2.000000\n",
      "5  Add a customer review page. This will increase...   1.333333\n",
      "3  Change the category structure. This will incre...   1.125000\n",
      "4  Change the background color on the main page. ...   1.000000\n",
      "--------------------------------------------------------------------------------------------------------------------------------------------\n",
      "                                          hypothesis   RICE\n",
      "7  Add a subscription form to all the main pages....  112.0\n",
      "2  Add product recommendation blocks to the store...   56.0\n",
      "0  Add two new channels for attracting traffic. T...   40.0\n",
      "6  Show banners with current offers and sales on ...   40.0\n",
      "8  Launch a promotion that gives users discounts ...   16.2\n",
      "3  Change the category structure. This will incre...    9.0\n",
      "1  Launch your own delivery service. This will sh...    4.0\n",
      "5  Add a customer review page. This will increase...    4.0\n",
      "4  Change the background color on the main page. ...    3.0\n"
     ]
    }
   ],
   "source": [
    "case1= hypotheses[['hypothesis', 'ICE']].sort_values(by='ICE', ascending=False)\n",
    "case2 =hypotheses[['hypothesis', 'RICE']].sort_values(by='RICE', ascending=False)\n",
    "\n",
    "print(case1)\n",
    "print('--------------------------------------------------------------------------------------------------------------------------------------------')\n",
    "print(case2)"
   ]
  },
  {
   "cell_type": "markdown",
   "metadata": {},
   "source": [
    "### Hallazgos sobre priorización de hipótesis\n",
    "\n",
    "- ICE: Hipótesis número 8 - Launch a promotion that gives users discounts on their birthdays. Esta hipotesis obtuvo un puntaje de 16.2.\n",
    "- RICE:  Hipótesis número 7 - Add a subscription form to all the main pages. This will help you compile a mailing list . Esta hipotesis obtuvo un puntaje de 112.\n"
   ]
  },
  {
   "cell_type": "markdown",
   "metadata": {},
   "source": [
    "## 4. Análisis de test A/B"
   ]
  },
  {
   "cell_type": "code",
   "execution_count": 28,
   "metadata": {},
   "outputs": [
    {
     "name": "stdout",
     "output_type": "stream",
     "text": [
      "   transaction_id  visitor_id        date  revenue group\n",
      "0      3667963787  3312258926  2019-08-15     30.4     B\n",
      "1      2804400009  3642806036  2019-08-15     15.2     B\n",
      "2      3797467345  1196621759  2019-08-15    155.1     B\n",
      "3      2282983706  2322279887  2019-08-15     40.5     B\n",
      "4       182168103   935554773  2019-08-15     35.0     B\n",
      "--------------------------------------------------------------------------------------------------------------------------------------------\n",
      "         date group  visits\n",
      "0  2019-08-01     A     719\n",
      "1  2019-08-02     A     619\n",
      "2  2019-08-03     A     507\n",
      "3  2019-08-04     A     717\n",
      "4  2019-08-05     A     756\n"
     ]
    }
   ],
   "source": [
    "print(orders.head())\n",
    "print('--------------------------------------------------------------------------------------------------------------------------------------------')\n",
    "print(visits.head())"
   ]
  },
  {
   "cell_type": "code",
   "execution_count": 29,
   "metadata": {},
   "outputs": [],
   "source": [
    "#Representa gráficamente el ingreso acumulado por grupo.\n",
    "#Apicamos función lambda para mapear fechas \n",
    "orders['date'] = orders['date'].map(lambda x: dt.datetime.strptime(x, '%Y-%m-%d'))\n",
    "\n",
    "visits['date'] = visits['date'].map(lambda x: dt.datetime.strptime(x, '%Y-%m-%d'))"
   ]
  },
  {
   "cell_type": "code",
   "execution_count": 30,
   "metadata": {},
   "outputs": [],
   "source": [
    "#Eliminamos posibles duplicados \n",
    "datesGroups = orders[['date', 'group']].drop_duplicates()"
   ]
  },
  {
   "cell_type": "code",
   "execution_count": 31,
   "metadata": {},
   "outputs": [],
   "source": [
    "#Declaramos la variable ordersAggregated para almacenar datos de orders \n",
    "ordersAggregated = datesGroups.apply(\n",
    "    lambda x: orders[\n",
    "        np.logical_and(\n",
    "            orders['date'] <= x['date'], orders['group'] == x['group']\n",
    "        )\n",
    "    ].agg(\n",
    "        {\n",
    "            'date': 'max',\n",
    "            'group': 'max',\n",
    "            'transaction_id': pd.Series.nunique,\n",
    "            'visitor_id': pd.Series.nunique,\n",
    "            'revenue': 'sum',\n",
    "        }\n",
    "    ),\n",
    "    axis=1,\n",
    ").sort_values(by=['date', 'group'])"
   ]
  },
  {
   "cell_type": "code",
   "execution_count": 32,
   "metadata": {},
   "outputs": [],
   "source": [
    "#Declaramos la variable ordersAggregated para almacenar datos de visits\n",
    "visitorsAggregated = datesGroups.apply(\n",
    "    lambda x: visits[\n",
    "        np.logical_and(\n",
    "            visits['date'] <= x['date'], visits['group'] == x['group']\n",
    "        )\n",
    "    ].agg(\n",
    "        {\n",
    "            'date': 'max', \n",
    "            'group': 'max', \n",
    "            'visits': 'sum'\n",
    "            }\n",
    "            ),\n",
    "    axis=1,\n",
    ").sort_values(by=['date', 'group'])"
   ]
  },
  {
   "cell_type": "code",
   "execution_count": 33,
   "metadata": {},
   "outputs": [],
   "source": [
    "#Creamos cumulative data para obetner valores acumualdos \n",
    "cumulativeData = ordersAggregated.merge(\n",
    "    visitorsAggregated, left_on=['date', 'group'], right_on=['date', 'group']\n",
    ")"
   ]
  },
  {
   "cell_type": "code",
   "execution_count": 34,
   "metadata": {},
   "outputs": [
    {
     "name": "stdout",
     "output_type": "stream",
     "text": [
      "        date group  orders  buyers  revenue  visitors\n",
      "0 2019-08-01     A      23      19   2266.6       719\n",
      "1 2019-08-01     B      17      17    967.2       713\n",
      "2 2019-08-02     A      42      36   3734.9      1338\n",
      "3 2019-08-02     B      40      39   3535.3      1294\n",
      "4 2019-08-03     A      66      60   5550.1      1845\n"
     ]
    }
   ],
   "source": [
    "#Nombramos columnas e imprimimos df \n",
    "cumulativeData.columns = [\n",
    "    'date',\n",
    "    'group',\n",
    "    'orders',\n",
    "    'buyers',\n",
    "    'revenue',\n",
    "    'visitors',\n",
    "]\n",
    "\n",
    "print(cumulativeData.head(5))"
   ]
  },
  {
   "cell_type": "code",
   "execution_count": 35,
   "metadata": {},
   "outputs": [],
   "source": [
    "#Separamos datos de grupo A y B \n",
    "cumulativeRevenueA = cumulativeData[cumulativeData['group'] == 'A'][\n",
    "    ['date', 'revenue', 'orders']\n",
    "]\n",
    "cumulativeRevenueB = cumulativeData[cumulativeData['group'] == 'B'][\n",
    "    ['date', 'revenue', 'orders']\n",
    "]"
   ]
  },
  {
   "cell_type": "code",
   "execution_count": 36,
   "metadata": {},
   "outputs": [
    {
     "data": {
      "image/png": "[encoded data removed]",
      "text/plain": [
       "<Figure size 640x480 with 1 Axes>"
      ]
     },
     "metadata": {},
     "output_type": "display_data"
    }
   ],
   "source": [
    "#Cosntruimos grafica para ingresos acumulados por grupo \n",
    "plt.plot(cumulativeRevenueA['date'], cumulativeRevenueA['revenue'], label='A')\n",
    "plt.plot(cumulativeRevenueB['date'], cumulativeRevenueB['revenue'], label='B')\n",
    "plt.legend() \n",
    "plt.title(\"Ingreso acumulado por grupo\")\n",
    "plt.xticks(rotation=45)\n",
    "plt.show()\n"
   ]
  },
  {
   "cell_type": "markdown",
   "metadata": {},
   "source": [
    "Los ingresos acumualdos del grupo B a partir del 17 de agosto parecen mucho mayores que los del grupo A, esto podría indicar un mejor rendimiento en la prueba del grupo B "
   ]
  },
  {
   "cell_type": "code",
   "execution_count": 37,
   "metadata": {},
   "outputs": [
    {
     "data": {
      "image/png": "[encoded data removed]",
      "text/plain": [
       "<Figure size 640x480 with 1 Axes>"
      ]
     },
     "metadata": {},
     "output_type": "display_data"
    }
   ],
   "source": [
    "#Representa gráficamente el tamaño de pedido promedio acumulado por grupo.\n",
    "plt.plot(cumulativeRevenueA['date'], \n",
    "         cumulativeRevenueA['revenue'] / cumulativeRevenueA['orders'], \n",
    "         label='A')\n",
    "plt.plot(cumulativeRevenueB['date'], \n",
    "         cumulativeRevenueB['revenue'] / cumulativeRevenueB['orders'], \n",
    "         label='B')\n",
    "\n",
    "plt.title('Tamaño de pedido promedio acumulado por grupo')\n",
    "plt.xticks(rotation=45)\n",
    "plt.legend()\n",
    "plt.show()"
   ]
  },
  {
   "cell_type": "markdown",
   "metadata": {},
   "source": [
    "El grupo B tiene mucha ventaja sobre el grupo A, sin embargo este caso es un aumento mucho más marcado lo que en los promedios podría indicar presencia de valores atípicos dentro del grupo B"
   ]
  },
  {
   "cell_type": "code",
   "execution_count": 38,
   "metadata": {},
   "outputs": [],
   "source": [
    "#Representa gráficamente la diferencia relativa en el tamaño de pedido promedio acumulado para el grupo B en comparación con el grupo A. "
   ]
  },
  {
   "cell_type": "code",
   "execution_count": 39,
   "metadata": {},
   "outputs": [],
   "source": [
    "#Unimos ambso ingresos acumulados \n",
    "mergedCumulativeRevenue = cumulativeRevenueA.merge(\n",
    "    cumulativeRevenueB,\n",
    "    left_on='date',\n",
    "    right_on='date',\n",
    "    how='left',\n",
    "    suffixes=['A', 'B'],\n",
    ")"
   ]
  },
  {
   "cell_type": "code",
   "execution_count": 40,
   "metadata": {},
   "outputs": [
    {
     "data": {
      "image/png": "[encoded data removed]",
      "text/plain": [
       "<Figure size 640x480 with 1 Axes>"
      ]
     },
     "metadata": {},
     "output_type": "display_data"
    }
   ],
   "source": [
    "#Mostramso diferencai relativa \n",
    "plt.plot(\n",
    "    mergedCumulativeRevenue['date'],\n",
    "    (mergedCumulativeRevenue['revenueB'] / mergedCumulativeRevenue['ordersB'])\n",
    "    / (\n",
    "        mergedCumulativeRevenue['revenueA']\n",
    "        / mergedCumulativeRevenue['ordersA']\n",
    "    )\n",
    "    - 1,\n",
    ")\n",
    "plt.axhline(y=0, color='red', linestyle='--')\n",
    "plt.title('Diferencia relativa en el tamaño de pedido promedio acumulado para el grupo B en comparación con el grupo A')\n",
    "plt.xticks(rotation=45)\n",
    "plt.grid(visible=True, which='major', axis='both')\n",
    "plt.show()"
   ]
  },
  {
   "cell_type": "markdown",
   "metadata": {},
   "source": [
    "Observamos el mismo patrón donde hay picos de consumo atípicos sobre todo entre el 17 y 21 de agosto donde se dispara el pedido promedio, confirmando de cierta manera la presencia de valores atipicos. "
   ]
  },
  {
   "cell_type": "code",
   "execution_count": 41,
   "metadata": {},
   "outputs": [],
   "source": [
    "#Calcula la tasa de conversión de cada grupo como la relación entre los pedidos y el número de visitas de cada día. "
   ]
  },
  {
   "cell_type": "code",
   "execution_count": 42,
   "metadata": {},
   "outputs": [],
   "source": [
    "#Agregamos clumna para tasa de conversion \n",
    "cumulativeData['conversion'] = (\n",
    "    cumulativeData['orders'] / cumulativeData['visitors']\n",
    ")\n"
   ]
  },
  {
   "cell_type": "code",
   "execution_count": 43,
   "metadata": {},
   "outputs": [],
   "source": [
    "#Se almacenan s los datos de los pedidos en los segmentos A y B\n",
    "cumulativeDataA = cumulativeData[cumulativeData['group'] == 'A']\n",
    "cumulativeDataB = cumulativeData[cumulativeData['group'] == 'B']"
   ]
  },
  {
   "cell_type": "code",
   "execution_count": 44,
   "metadata": {},
   "outputs": [
    {
     "data": {
      "image/png": "[encoded data removed]",
      "text/plain": [
       "<Figure size 640x480 with 1 Axes>"
      ]
     },
     "metadata": {},
     "output_type": "display_data"
    }
   ],
   "source": [
    "#Mostramos tasa de convresion por grupo \n",
    "plt.plot(cumulativeDataA['date'], cumulativeDataA['conversion'], label='A')\n",
    "plt.plot(cumulativeDataB['date'], cumulativeDataB['conversion'], label='B')\n",
    "plt.legend()\n",
    "plt.title('Tasa de conversión de cada grupo')\n",
    "plt.xticks(rotation=45)\n",
    "plt.grid(visible=True, which='major', axis='both')\n",
    "plt.show()"
   ]
  },
  {
   "cell_type": "markdown",
   "metadata": {},
   "source": [
    "Observamos que la tasa de conversion baja significativamente el el grupo A, mientras que hay tendencia al alza para grupo B, sin embargo parece que tienden a estabilizarse."
   ]
  },
  {
   "cell_type": "code",
   "execution_count": 45,
   "metadata": {},
   "outputs": [
    {
     "data": {
      "image/png": "[encoded data removed]",
      "text/plain": [
       "<Figure size 640x480 with 1 Axes>"
      ]
     },
     "metadata": {},
     "output_type": "display_data"
    }
   ],
   "source": [
    "#Cambiamos el eje para observar mejor la tendencai de estabilización \n",
    "plt.plot(cumulativeDataA['date'], cumulativeDataA['conversion'], label='A')\n",
    "plt.plot(cumulativeDataB['date'], cumulativeDataB['conversion'], label='B')\n",
    "plt.legend()\n",
    "plt.title('Tasa de conversión de cada grupo')\n",
    "plt.xticks(rotation=45)\n",
    "plt.axis([pd.to_datetime('2019-08-03'), pd.to_datetime('2019-09-03'), 0, 0.05])\n",
    "plt.grid(visible=True, which='major', axis='both')\n",
    "plt.show()"
   ]
  },
  {
   "cell_type": "markdown",
   "metadata": {},
   "source": [
    "Observamos que el grupo A comenzó al alza, sin embargo después se estabiliza la muestra, en el caso del grupo B ocurre lo contrario, comienza abajo, para después tener un repunte que lo coloca por encima del grupo A para después lograr estabilizarse. \n"
   ]
  },
  {
   "cell_type": "code",
   "execution_count": 46,
   "metadata": {},
   "outputs": [],
   "source": [
    "#Representa gráficamente las tasas de conversión diarias de los dos grupos y describe la diferencia"
   ]
  },
  {
   "cell_type": "code",
   "execution_count": 47,
   "metadata": {},
   "outputs": [],
   "source": [
    "#unimos ambas conversiones para poder compararlas \n",
    "mergedCumulativeConversions = cumulativeDataA[['date', 'conversion']].merge(\n",
    "    cumulativeDataB[['date', 'conversion']],\n",
    "    left_on='date',\n",
    "    right_on='date',\n",
    "    how='left',\n",
    "    suffixes=['A', 'B'],\n",
    ")\n"
   ]
  },
  {
   "cell_type": "code",
   "execution_count": 48,
   "metadata": {},
   "outputs": [
    {
     "data": {
      "image/png": "[encoded data removed]",
      "text/plain": [
       "<Figure size 640x480 with 1 Axes>"
      ]
     },
     "metadata": {},
     "output_type": "display_data"
    }
   ],
   "source": [
    "#Trazamos gráfica\n",
    "plt.plot(\n",
    "    mergedCumulativeConversions['date'],\n",
    "    mergedCumulativeConversions['conversionB']\n",
    "    / mergedCumulativeConversions['conversionA']\n",
    "    - 1,\n",
    ")\n",
    "plt.axhline(y=0, color='black', linestyle='--')\n",
    "plt.axhline(y=0.2, color='grey', linestyle='--')\n",
    "plt.title('Tasa de conversión conversión diarias de los dos grupos')\n",
    "plt.xticks(rotation=45)\n",
    "plt.axis([pd.to_datetime('2019-08-03'), pd.to_datetime('2019-09-03'), -0.5, 0.5])\n",
    "plt.show()\n",
    " "
   ]
  },
  {
   "cell_type": "markdown",
   "metadata": {},
   "source": [
    "Al parecer el grupo B tiene mejores resultados que el grupo A el cual bajó su rendimeinto al estabilizarse la prueba, sin embargo aún no podemos verificar que el grupo B sea mejor que el grupo A por temas de valores atípicos."
   ]
  },
  {
   "cell_type": "code",
   "execution_count": 49,
   "metadata": {},
   "outputs": [],
   "source": [
    "#Traza un gráfico de dispersión del número de pedidos por usuario. \n"
   ]
  },
  {
   "cell_type": "code",
   "execution_count": 50,
   "metadata": {},
   "outputs": [
    {
     "data": {
      "text/html": [
       "<div>\n",
       "<style scoped>\n",
       "    .dataframe tbody tr th:only-of-type {\n",
       "        vertical-align: middle;\n",
       "    }\n",
       "\n",
       "    .dataframe tbody tr th {\n",
       "        vertical-align: top;\n",
       "    }\n",
       "\n",
       "    .dataframe thead th {\n",
       "        text-align: right;\n",
       "    }\n",
       "</style>\n",
       "<table border=\"1\" class=\"dataframe\">\n",
       "  <thead>\n",
       "    <tr style=\"text-align: right;\">\n",
       "      <th></th>\n",
       "      <th>visitor_id</th>\n",
       "      <th>orders</th>\n",
       "    </tr>\n",
       "  </thead>\n",
       "  <tbody>\n",
       "    <tr>\n",
       "      <th>0</th>\n",
       "      <td>5114589</td>\n",
       "      <td>1</td>\n",
       "    </tr>\n",
       "    <tr>\n",
       "      <th>1</th>\n",
       "      <td>6958315</td>\n",
       "      <td>1</td>\n",
       "    </tr>\n",
       "    <tr>\n",
       "      <th>2</th>\n",
       "      <td>11685486</td>\n",
       "      <td>1</td>\n",
       "    </tr>\n",
       "    <tr>\n",
       "      <th>3</th>\n",
       "      <td>39475350</td>\n",
       "      <td>1</td>\n",
       "    </tr>\n",
       "    <tr>\n",
       "      <th>4</th>\n",
       "      <td>47206413</td>\n",
       "      <td>1</td>\n",
       "    </tr>\n",
       "  </tbody>\n",
       "</table>\n",
       "</div>"
      ],
      "text/plain": [
       "   visitor_id  orders\n",
       "0     5114589       1\n",
       "1     6958315       1\n",
       "2    11685486       1\n",
       "3    39475350       1\n",
       "4    47206413       1"
      ]
     },
     "execution_count": 50,
     "metadata": {},
     "output_type": "execute_result"
    }
   ],
   "source": [
    "#Creamos un nuevo df para agrupar las ordenes  \n",
    "ordersByUsers = (\n",
    "    orders.drop(['group', 'revenue', 'date'], axis=1)\n",
    "    .groupby('visitor_id', as_index=False)\n",
    "    .agg({'transaction_id': pd.Series.nunique})    \n",
    ")\n",
    "ordersByUsers.columns = ['visitor_id', 'orders']\n",
    "\n",
    "ordersByUsers.head()"
   ]
  },
  {
   "cell_type": "code",
   "execution_count": 51,
   "metadata": {},
   "outputs": [
    {
     "data": {
      "image/png": "[encoded data removed]",
      "text/plain": [
       "<Figure size 640x480 with 1 Axes>"
      ]
     },
     "metadata": {},
     "output_type": "display_data"
    }
   ],
   "source": [
    "#Graficamos las ordenes por usuario \n",
    "x_values = pd.Series(range(0,len(ordersByUsers)))\n",
    "\n",
    "plt.scatter(x= x_values,\n",
    "             y= ordersByUsers['orders'], \n",
    "             )\n",
    "plt.title('Número de pedidos por usuario')\n",
    "plt.show()"
   ]
  },
  {
   "cell_type": "markdown",
   "metadata": {},
   "source": [
    "La mayoría de usuarios solo realiza una orden, una cantidad considerable de usuarios podemos observar que hacen 2 pedidos. \n",
    "Fianalmente vemos que hay muy pocos usurios que hacen 3 pedidos, siendo que podemos considerarlos como valores atípicos. "
   ]
  },
  {
   "cell_type": "code",
   "execution_count": 52,
   "metadata": {},
   "outputs": [
    {
     "name": "stdout",
     "output_type": "stream",
     "text": [
      "Percentil 95 para el número de pedidos por usuario:  [1]\n",
      "Percentil 99 para el número de pedidos por usuario:  [2]\n"
     ]
    }
   ],
   "source": [
    "#Calcula los percentiles 95 y 99 para el número de pedidos por usuario.\n",
    "pedidos_95 = np.percentile(ordersByUsers['orders'], [95])\n",
    "pedidos_99 = np.percentile(ordersByUsers['orders'], [99])\n",
    "print(\"Percentil 95 para el número de pedidos por usuario: \", pedidos_95.astype(int))\n",
    "print(\"Percentil 99 para el número de pedidos por usuario: \", pedidos_99.astype(int))"
   ]
  },
  {
   "cell_type": "markdown",
   "metadata": {},
   "source": [
    "Observamos en lo percentiles que aquellos usuarios que realizan más de dos pedidos no son más del 1% por lo que se podrían considerar valores atípicos "
   ]
  },
  {
   "cell_type": "code",
   "execution_count": 53,
   "metadata": {},
   "outputs": [
    {
     "data": {
      "image/png": "[encoded data removed]",
      "text/plain": [
       "<Figure size 640x480 with 1 Axes>"
      ]
     },
     "metadata": {},
     "output_type": "display_data"
    }
   ],
   "source": [
    "#Define el punto en el cual un punto de datos se convierte en una anomalía.\n",
    "#Trazamos un histograma para verificar la infromación \n",
    "plt.hist(ordersByUsers['orders'])\n",
    "plt.title('Número de pedidos por usuario')\n",
    "plt.show()"
   ]
  },
  {
   "cell_type": "markdown",
   "metadata": {},
   "source": [
    "Como podemos observar incluso las ordenes con dos pedidos, podrían considerarse anomalias considerando la cantidad de usuarios que realizan un solo pedido,por lo que podemso considerar que a partir de dos pedidos es un valor anómalo"
   ]
  },
  {
   "cell_type": "code",
   "execution_count": 54,
   "metadata": {},
   "outputs": [
    {
     "data": {
      "image/png": "[encoded data removed]",
      "text/plain": [
       "<Figure size 640x480 with 1 Axes>"
      ]
     },
     "metadata": {},
     "output_type": "display_data"
    }
   ],
   "source": [
    "#Traza un gráfico de dispersión de los precios de los pedidos.\n",
    "x_values = pd.Series(range(0,len(orders['revenue'])))\n",
    "\n",
    "plt.scatter(x= x_values,\n",
    "            y= orders['revenue']\n",
    "    \n",
    ")\n",
    "plt.title(' Dispersión de los precios de los pedidos')\n",
    "plt.show()"
   ]
  },
  {
   "cell_type": "markdown",
   "metadata": {},
   "source": [
    "Podemos observar que la mayoría de pedidos están por debajo de los 2500, siendo que es una minoría los que superan dicho rango, por lo que es prudente considerarlos valores atipicos"
   ]
  },
  {
   "cell_type": "code",
   "execution_count": 55,
   "metadata": {},
   "outputs": [
    {
     "name": "stdout",
     "output_type": "stream",
     "text": [
      "Percentil 95 para los precios de los pedidos:  [414.275]\n",
      "Percentil 99 para los precios de los pedidos:  [830.3]\n"
     ]
    }
   ],
   "source": [
    "#Calcula los percentiles 95 y 99 de los precios de los pedidos. \n",
    "precio_95 = np.percentile(orders['revenue'], [95])\n",
    "precio_99 = np.percentile(orders['revenue'], [99])\n",
    "print(\"Percentil 95 para los precios de los pedidos: \", precio_95.astype(float))\n",
    "print(\"Percentil 99 para los precios de los pedidos: \", precio_99.astype(float))"
   ]
  },
  {
   "cell_type": "markdown",
   "metadata": {},
   "source": [
    "Observamos que solo el 5% de los precios supera los 415, siendo que solo el 1% de los usauri generó ingresos del doble, de 800, siendo que incluso los valores atípicos vistos en el scatter, estan inclusive muy lejos de este 1%"
   ]
  },
  {
   "cell_type": "code",
   "execution_count": 56,
   "metadata": {},
   "outputs": [
    {
     "data": {
      "image/png": "[encoded data removed]",
      "text/plain": [
       "<Figure size 640x480 with 1 Axes>"
      ]
     },
     "metadata": {},
     "output_type": "display_data"
    }
   ],
   "source": [
    "#Define el punto en el cual un punto de datos se convierte en una anomalía.\n",
    "#Trazamos un histograma para verificar la infromación \n",
    "plt.hist(orders['revenue'], \n",
    "         bins= 50)\n",
    "plt.title('Distribución de los precios de los pedidos')\n",
    "plt.show()"
   ]
  },
  {
   "cell_type": "markdown",
   "metadata": {},
   "source": [
    "Observamos que la gran mayoría de usuarios hace pedido menores, sin embargo para determinar un mejor limite trazaremos el limite a el percentil de 95 "
   ]
  },
  {
   "cell_type": "code",
   "execution_count": 57,
   "metadata": {},
   "outputs": [
    {
     "data": {
      "image/png": "[encoded data removed]",
      "text/plain": [
       "<Figure size 640x480 with 1 Axes>"
      ]
     },
     "metadata": {},
     "output_type": "display_data"
    }
   ],
   "source": [
    "plt.hist(orders['revenue'], \n",
    "         range=(0, 830.3),\n",
    "         bins = 5)\n",
    "plt.title('Distribución de los precios de los pedidos')\n",
    "plt.show()"
   ]
  },
  {
   "cell_type": "markdown",
   "metadata": {},
   "source": [
    "La gran mayoría de los pedidos son menores incluso a 100, por lo que incluso el percentil 99 de 800 puede ser considerado como una anomalía, siendo que como vemos en el histograma es una muestra poco significativa siendo que después de 400 se reduce bastante el número de pedidos que superan esta cifra"
   ]
  },
  {
   "cell_type": "code",
   "execution_count": 58,
   "metadata": {},
   "outputs": [],
   "source": [
    "#Encuentra la significancia estadística de la diferencia en la conversión entre los grupos utilizando los datos en bruto. "
   ]
  },
  {
   "cell_type": "code",
   "execution_count": 59,
   "metadata": {},
   "outputs": [
    {
     "name": "stdout",
     "output_type": "stream",
     "text": [
      "0.01102\n",
      "0.160\n"
     ]
    }
   ],
   "source": [
    "#se crean las variables ordersByUsersA y ordersByUsersB para almacenar las columnas 'user_id' y 'orders'\n",
    "ordersByUsersA = (\n",
    "    orders[orders['group'] == 'A']\n",
    "    .groupby('visitor_id', as_index=False)\n",
    "    .agg({'transaction_id': pd.Series.nunique})\n",
    ")\n",
    "ordersByUsersA.columns = ['user_id', 'orders']\n",
    "\n",
    "ordersByUsersB = (\n",
    "    orders[orders['group'] == 'B']\n",
    "    .groupby('visitor_id', as_index=False)\n",
    "    .agg({'transaction_id': pd.Series.nunique})\n",
    ")\n",
    "ordersByUsersB.columns = ['user_id', 'orders']\n",
    "\n",
    "#se crea SampleaA y SampleB para almecenar los usaurios que tengan al menos un pedido\n",
    "sampleA = pd.concat(\n",
    "    [\n",
    "        ordersByUsersA['orders'],\n",
    "        pd.Series(\n",
    "            0,\n",
    "            index=np.arange(\n",
    "                visits[visits['group'] == 'A']['visits'].sum()\n",
    "                - len(ordersByUsersA['orders'])\n",
    "            ),\n",
    "            name='orders',\n",
    "        ),\n",
    "    ],\n",
    "    axis=0,\n",
    ")\n",
    "sampleB = pd.concat(\n",
    "    [\n",
    "        ordersByUsersB['orders'],\n",
    "        pd.Series(\n",
    "            0,\n",
    "            index=np.arange(\n",
    "                visits[visits['group'] == 'B']['visits'].sum()\n",
    "                - len(ordersByUsersB['orders'])\n",
    "            ),\n",
    "            name='orders',\n",
    "        ),\n",
    "    ],\n",
    "    axis=0,\n",
    ")\n",
    "#Se calcula la significancia estadística de la diferencia en la conversión aplicando la prueba de Mann-Whitney.\n",
    "print('{0:.5f}'.format(st.mannwhitneyu(sampleA, sampleB)[1])) #Imprimimos el valor p para comparar la conversión redondeado a cinco decimales.\n",
    "#Se calcula la diferencia relativa en la conversión y se redondea el resultado a tres decimales.\n",
    "print('{0:.3f}'.format(sampleB.mean() / sampleA.mean() - 1))"
   ]
  },
  {
   "cell_type": "markdown",
   "metadata": {},
   "source": [
    "Tomando un valor p de 0.05, observamos que el valor p de esta prueba es menor por lo que rechazamos la hipótesis nula. \n",
    "Por ende podemso decir que con base en los datos sin procesar, las tasas de conversión de los grupos tienen diferencias estadísticamente significativas. \n",
    "La ganancia de conversión relativa del grupo B en comparación con el grupo A es del 16%."
   ]
  },
  {
   "cell_type": "code",
   "execution_count": 60,
   "metadata": {},
   "outputs": [
    {
     "name": "stdout",
     "output_type": "stream",
     "text": [
      "0.862\n",
      "0.278\n"
     ]
    }
   ],
   "source": [
    "#Encuentra la significancia estadística de la diferencia en el tamaño promedio de pedido entre los grupos utilizando los datos en bruto. \n",
    "##Se calcula la significancia estadística de la diferencia en la conversión aplicando la prueba de Mann-Whitney.\n",
    "print(\n",
    "    '{0:.3f}'.format(\n",
    "        st.mannwhitneyu(\n",
    "            orders[orders['group'] == 'A']['revenue'],\n",
    "            orders[orders['group'] == 'B']['revenue'],\n",
    "        )[1]\n",
    "    )\n",
    ")\n",
    "#Se calcula la diferencia relativa en la conversión y se redondea el resultado a tres decimales.\n",
    "print(\n",
    "    '{0:.3f}'.format(\n",
    "        orders[orders['group'] == 'B']['revenue'].mean()\n",
    "        / orders[orders['group'] == 'A']['revenue'].mean()\n",
    "        - 1\n",
    "    )\n",
    ")"
   ]
  },
  {
   "cell_type": "markdown",
   "metadata": {},
   "source": [
    "El valor p es superior a 0.05 por lo que no existen diferencias estadísticamente significativas entre los tamaños de pedido promedio de los grupos. Sin embargo la diferencia relativa es considerable al ser de 27.8%, esto puede deberse a los valores atípicos que excedían por mucho la media de los pedidos, por ende es recomendable filtrar los datos anómalos"
   ]
  },
  {
   "cell_type": "code",
   "execution_count": 61,
   "metadata": {},
   "outputs": [],
   "source": [
    "#Filtramos número de órdenes mayores a 1 recordando lo resultados de los percentiles \n",
    "usersWithManyOrders = pd.concat(\n",
    "    [\n",
    "        ordersByUsersA[ordersByUsersA['orders'] > 2]['user_id'],\n",
    "        ordersByUsersB[ordersByUsersB['orders'] > 2]['user_id'],\n",
    "    ],\n",
    "    axis=0,\n",
    ")"
   ]
  },
  {
   "cell_type": "code",
   "execution_count": 62,
   "metadata": {},
   "outputs": [],
   "source": [
    "#Filtramos número de órdenes mayores a 400 recordando los resultados de los percentiles \n",
    "usersWithExpensiveOrders = orders[orders['revenue'] > 400]['visitor_id']"
   ]
  },
  {
   "cell_type": "code",
   "execution_count": 63,
   "metadata": {},
   "outputs": [
    {
     "data": {
      "text/plain": [
       "500    113298937\n",
       "939    148427295\n",
       "404    154576532\n",
       "798    204675465\n",
       "33     249864742\n",
       "599    358944393\n",
       "570    382846391\n",
       "58     611059232\n",
       "652    689129267\n",
       "612    759473111\n",
       "dtype: int64"
      ]
     },
     "execution_count": 63,
     "metadata": {},
     "output_type": "execute_result"
    }
   ],
   "source": [
    "#Creamos un nuevo df con usuariso anómalos\n",
    "abnormalUsers = (\n",
    "    pd.concat([usersWithManyOrders, usersWithExpensiveOrders], axis=0)\n",
    "    .drop_duplicates()\n",
    "    .sort_values()\n",
    ")\n",
    "abnormalUsers.head(10)"
   ]
  },
  {
   "cell_type": "code",
   "execution_count": 64,
   "metadata": {},
   "outputs": [],
   "source": [
    "#Encuentra la significancia estadística de la diferencia en la conversión entre los grupos utilizando los datos filtrados."
   ]
  },
  {
   "cell_type": "code",
   "execution_count": 65,
   "metadata": {},
   "outputs": [],
   "source": [
    "#Creamos variable para filtrar datos del grupo A\n",
    "sampleAFiltered = pd.concat(\n",
    "    [\n",
    "        ordersByUsersA[\n",
    "            np.logical_not(ordersByUsersA['user_id'].isin(abnormalUsers)) #Filtramos usuarios con anomalias \n",
    "        ]['orders'],\n",
    "        pd.Series(\n",
    "            0,\n",
    "            index=np.arange(\n",
    "                visits[visits['group'] == 'A']['visits'].sum()\n",
    "                - len(ordersByUsersA['orders'])\n",
    "            ),\n",
    "            name='orders',\n",
    "        ),\n",
    "    ],\n",
    "    axis=0,\n",
    ")"
   ]
  },
  {
   "cell_type": "code",
   "execution_count": 66,
   "metadata": {},
   "outputs": [],
   "source": [
    "#Repetimos el proceso para el grupo B \n",
    "sampleBFiltered = pd.concat(\n",
    "    [\n",
    "        ordersByUsersB[\n",
    "            np.logical_not(ordersByUsersB['user_id'].isin(abnormalUsers))\n",
    "        ]['orders'],\n",
    "        pd.Series(\n",
    "            0,\n",
    "            index=np.arange(\n",
    "                visits[visits['group'] == 'B']['visits'].sum()\n",
    "                - len(ordersByUsersB['orders'])\n",
    "            ),\n",
    "            name='orders',\n",
    "        ),\n",
    "    ],\n",
    "    axis=0,\n",
    ")\n"
   ]
  },
  {
   "cell_type": "code",
   "execution_count": 67,
   "metadata": {},
   "outputs": [
    {
     "name": "stdout",
     "output_type": "stream",
     "text": [
      "0.01590\n",
      "0.176\n"
     ]
    }
   ],
   "source": [
    "#Calculamos sigficancia estdistica como anteriormente se hizo, pero esta vez sin datos anormales \n",
    "print(\n",
    "    \"{0:.5f}\".format(st.mannwhitneyu(sampleAFiltered, sampleBFiltered)[1])\n",
    ")\n",
    "print(\"{0:.3f}\".format(sampleBFiltered.mean() / sampleAFiltered.mean() - 1))"
   ]
  },
  {
   "cell_type": "markdown",
   "metadata": {},
   "source": [
    "Obtenemos un resultado similar al de los datos no filtrados. \n",
    "Tomando un valor p de 0.05, observamos que el valor p de esta prueba es menor por lo que rechazamos la hipótesis nula. \n",
    "Por ende podemso decir que con base en los datos sin procesar, las tasas de conversión de los grupos tienen diferencias estadísticamente significativas. \n",
    "La ganancia de conversión relativa del grupo B en comparación con el grupo A es del 17.6%."
   ]
  },
  {
   "cell_type": "code",
   "execution_count": 68,
   "metadata": {},
   "outputs": [],
   "source": [
    "#Encuentra la significancia estadística de la diferencia en el tamaño promedio de pedido entre los grupos utilizando los datos filtrados. \n"
   ]
  },
  {
   "cell_type": "code",
   "execution_count": 69,
   "metadata": {},
   "outputs": [
    {
     "name": "stdout",
     "output_type": "stream",
     "text": [
      "0.575\n",
      "-0.070\n"
     ]
    }
   ],
   "source": [
    "#Calculamos p para comparar los tamaños de pedido promedio de los grupos filtrados, redondeado a 3 decimales \n",
    "print(\n",
    "    \"{0:.3f}\".format(\n",
    "        st.mannwhitneyu(\n",
    "            orders[\n",
    "                np.logical_and(\n",
    "                    orders['group'] == 'A',\n",
    "                    np.logical_not(orders['visitor_id'].isin(abnormalUsers)),#Filtramos usuarios con anomalias \n",
    "                )\n",
    "            ]['revenue'],\n",
    "            orders[\n",
    "                np.logical_and(\n",
    "                    orders['group'] == 'B',\n",
    "                    np.logical_not(orders['visitor_id'].isin(abnormalUsers)),#Filtramos usuarios con anomalias \n",
    "                )\n",
    "            ]['revenue'],\n",
    "        )[1]\n",
    "    )\n",
    ")\n",
    "#Calculamos la ganancia relativa del grupo B redondeada a tres decimales\n",
    "print(\n",
    "    \"{0:.3f}\".format(\n",
    "        orders[\n",
    "            np.logical_and(\n",
    "                orders['group'] == 'B',\n",
    "                np.logical_not(orders['visitor_id'].isin(abnormalUsers)),\n",
    "            )\n",
    "        ]['revenue'].mean()\n",
    "        / orders[\n",
    "            np.logical_and(\n",
    "                orders['group'] == 'A',\n",
    "                np.logical_not(orders['visitor_id'].isin(abnormalUsers)),\n",
    "            )\n",
    "        ]['revenue'].mean()\n",
    "        - 1\n",
    "    )\n",
    ")\n"
   ]
  },
  {
   "cell_type": "markdown",
   "metadata": {},
   "source": [
    "Observamos que el valor p aumentó no permitiendo recahzar la hipotesis nula. \n",
    "Por ende, esta vez no obtuvimos una diferencia estadísticamente significativa entre los tamaños de pedido promedio de los grupos. \n",
    "Además para este caso la diferencia es el 7% \n"
   ]
  },
  {
   "cell_type": "markdown",
   "metadata": {},
   "source": [
    "## 5. Conclusiones"
   ]
  },
  {
   "cell_type": "markdown",
   "metadata": {},
   "source": [
    "Primero aplicamso pruebas RICE y ICE para pririzar hipotesis donde obtuvimos que las hipotesis con mejores resultados fueron las siguientes:\n",
    "- ICE: Hipótesis número 8 - Launch a promotion that gives users discounts on their birthdays (Lanzar una promoción que ofrezca a los usuarios descuentos en su cumpleaños.). Esta hipotesis obtuvo un puntaje de 16.2.\n",
    "- RICE:  Hipótesis número 7 - Add a subscription form to all the main pages. This will help you compile a mailing list (Agregar un formulario de suscripción a todas las páginas principales. Esto le ayudará a compilar una lista de correo.). Esta hipotesis obtuvo un puntaje de 112.\n",
    "\n",
    "Una vez realizado la priorización de hipótesis pasamos a obtener resultados de la prueba A/B: \n",
    "\n",
    "En este caso, observamos que el grupo A y B parecían tener redimientos similares, sindo que aparenemente el grupo B obtenía al principio resultados más óptimos, sin embargo al eliminar  valores atípicos observamos que esta tendencia fue disminiuda. \n",
    "\n",
    "Para el caso de los ingresos una vez eliminados valores atípicos,  el grupo A y b no mostraron diferencias signiifcativas pero, no fue asi para el caso de la conversion, donde si que se obtuvo una diferncia. \n",
    "Podríamos conlcuir entonces lo siguiente: \n",
    "\n",
    "- Hay una diferencia estadísticamente significativa en la conversión entre los grupos, según los datos sin procesar y filtrados.\n",
    "\n",
    "- Los datos sin procesar mostraron una diferencia estadísticamente significativa entre los grupos en cuanto a tamaño promedio de compra. Sin embargo, después de eliminar las anomalías, resultó que no había una diferencia estadísticamente significativa.\n",
    "\n",
    "- El gráfico de la diferencia de conversión entre los grupos muestra que los resultados del grupo B son mejores que los del grupo A: tienen tendencia a crecer o se estabilizaron alrededor de la media.\n",
    "\n",
    "Por ende podriamos conluir que al prueba puede ser terminada, demostrando que si bien la hipotesis  de esta caso no mostró aumento sognificativo en los ingresos si lo realizó en las tasas de conversión "
   ]
  }
 ],
 "metadata": {
  "ExecuteTimeLog": [
   {
    "duration": 13,
    "start_time": "2024-06-06T11:28:08.089Z"
   }
  ],
  "kernelspec": {
   "display_name": "Python 3 (ipykernel)",
   "language": "python",
   "name": "python3"
  },
  "language_info": {
   "codemirror_mode": {
    "name": "ipython",
    "version": 3
   },
   "file_extension": ".py",
   "mimetype": "text/x-python",
   "name": "python",
   "nbconvert_exporter": "python",
   "pygments_lexer": "ipython3",
   "version": "3.9.19"
  },
  "toc": {
   "base_numbering": 1,
   "nav_menu": {},
   "number_sections": true,
   "sideBar": true,
   "skip_h1_title": true,
   "title_cell": "Table of Contents",
   "title_sidebar": "Contents",
   "toc_cell": false,
   "toc_position": {},
   "toc_section_display": true,
   "toc_window_display": false
  }
 },
 "nbformat": 4,
 "nbformat_minor": 2
}
